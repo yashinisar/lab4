{
 "cells": [
  {
   "cell_type": "code",
   "execution_count": 8,
   "metadata": {},
   "outputs": [
    {
     "name": "stdout",
     "output_type": "stream",
     "text": [
      "Mean Squared Error (MSE): 7007.383189854042\n",
      "Root Mean Squared Error (RMSE): 83.7101140236593\n",
      "R-squared (R²): 0.9507352480054505\n",
      "\n",
      "Predictions:\n",
      "\n",
      "     Actual Weight  Predicted Weight\n",
      "78            78.0         18.738254\n",
      "155           13.4         11.886420\n",
      "128          200.0        187.711281\n",
      "55           270.0        332.739895\n",
      "94           150.0        212.097016\n",
      "29          1000.0        757.761616\n",
      "147            7.0        -61.143019\n",
      "51           180.0        255.772525\n",
      "98           188.0        260.494792\n",
      "141         1250.0       1148.322830\n"
     ]
    }
   ],
   "source": [
    "import pandas as pd\n",
    "import matplotlib.pyplot as plt\n",
    "from sklearn.preprocessing import StandardScaler\n",
    "from sklearn.model_selection import train_test_split\n",
    "from sklearn.linear_model import LinearRegression\n",
    "from sklearn.metrics import mean_squared_error, r2_score\n",
    "import numpy as np\n",
    "import joblib\n",
    "\n",
    "# Load the Fish market dataset\n",
    "file_path = 'Fish.csv'  # Update with the actual file path\n",
    "fish_data = pd.read_csv(file_path)\n",
    "\n",
    "# Data Preprocessing\n",
    "# One-hot encode the categorical variable 'Species'\n",
    "encoded_species = pd.get_dummies(fish_data['Species'], prefix='Species')\n",
    "fish_data_encoded = pd.concat([fish_data.drop('Species', axis=1), encoded_species], axis=1)\n",
    "\n",
    "# Initialize the StandardScaler\n",
    "scaler = StandardScaler()\n",
    "numerical_features = ['Length1', 'Length2', 'Length3', 'Height', 'Width']\n",
    "fish_data_encoded[numerical_features] = scaler.fit_transform(fish_data_encoded[numerical_features])\n",
    "\n",
    "# Define the target variable (Weight) and the features\n",
    "X = fish_data_encoded.drop('Weight', axis=1)\n",
    "y = fish_data_encoded['Weight']\n",
    "\n",
    "# Splitting the data into training and testing sets\n",
    "X_train, X_test, y_train, y_test = train_test_split(X, y, test_size=0.2, random_state=42)\n",
    "\n",
    "# Building and Training the Model\n",
    "model = LinearRegression()\n",
    "model.fit(X_train, y_train)\n",
    "\n",
    "# Making predictions on the testing data\n",
    "y_pred = model.predict(X_test)\n",
    "\n",
    "# Evaluating the Model\n",
    "mse = mean_squared_error(y_test, y_pred)\n",
    "rmse = np.sqrt(mse)\n",
    "r2 = r2_score(y_test, y_pred)\n",
    "print(f'Mean Squared Error (MSE): {mse}')\n",
    "print(f'Root Mean Squared Error (RMSE): {rmse}')\n",
    "print(f'R-squared (R²): {r2}')\n",
    "\n",
    "# Printing Predictions in an Understandable Manner\n",
    "predictions = pd.DataFrame({'Actual Weight': y_test, 'Predicted Weight': y_pred})\n",
    "print(\"\\nPredictions:\\n\")\n",
    "print(predictions.head(10))  # Print the first 10 predictions\n"
   ]
  },
  {
   "cell_type": "code",
   "execution_count": 9,
   "metadata": {},
   "outputs": [
    {
     "name": "stdout",
     "output_type": "stream",
     "text": [
      "Model saved to linear_regression_fish_model.joblib\n"
     ]
    }
   ],
   "source": [
    "# Saving the Model\n",
    "model_filename = 'linear_regression_fish_model.joblib'\n",
    "joblib.dump(model, model_filename)\n",
    "print(f'Model saved to {model_filename}')"
   ]
  },
  {
   "cell_type": "code",
   "execution_count": null,
   "metadata": {},
   "outputs": [],
   "source": []
  }
 ],
 "metadata": {
  "kernelspec": {
   "display_name": "Python 3",
   "language": "python",
   "name": "python3"
  },
  "language_info": {
   "codemirror_mode": {
    "name": "ipython",
    "version": 3
   },
   "file_extension": ".py",
   "mimetype": "text/x-python",
   "name": "python",
   "nbconvert_exporter": "python",
   "pygments_lexer": "ipython3",
   "version": "3.11.9"
  }
 },
 "nbformat": 4,
 "nbformat_minor": 2
}
